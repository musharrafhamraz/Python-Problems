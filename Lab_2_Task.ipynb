{
  "cells": [
    {
      "cell_type": "markdown",
      "metadata": {
        "id": "view-in-github",
        "colab_type": "text"
      },
      "source": [
        "<a href=\"https://colab.research.google.com/github/musharrafhamraz/Python-Problems/blob/main/Lab_2_Task.ipynb\" target=\"_parent\"><img src=\"https://colab.research.google.com/assets/colab-badge.svg\" alt=\"Open In Colab\"/></a>"
      ]
    },
    {
      "cell_type": "code",
      "execution_count": null,
      "id": "bcb6ab81",
      "metadata": {
        "id": "bcb6ab81",
        "outputId": "75d4cbac-8540-454d-a6b8-321923aade22"
      },
      "outputs": [
        {
          "name": "stdout",
          "output_type": "stream",
          "text": [
            "-48\n"
          ]
        }
      ],
      "source": [
        "print(6 * -----------8)"
      ]
    },
    {
      "cell_type": "markdown",
      "id": "2197a1b3",
      "metadata": {
        "id": "2197a1b3"
      },
      "source": [
        "## The assignment operator is missing\n",
        "## The variable people is not given a value to compare with 8"
      ]
    },
    {
      "cell_type": "code",
      "execution_count": null,
      "id": "1110bb47",
      "metadata": {
        "id": "1110bb47",
        "outputId": "1d91ba80-5926-43b9-fcd1-9e015f2b40e9"
      },
      "outputs": [
        {
          "ename": "SyntaxError",
          "evalue": "expression cannot contain assignment, perhaps you meant \"==\"? (2587833711.py, line 1)",
          "output_type": "error",
          "traceback": [
            "\u001b[1;36m  Cell \u001b[1;32mIn[2], line 1\u001b[1;36m\u001b[0m\n\u001b[1;33m    print(8 = people)\u001b[0m\n\u001b[1;37m          ^\u001b[0m\n\u001b[1;31mSyntaxError\u001b[0m\u001b[1;31m:\u001b[0m expression cannot contain assignment, perhaps you meant \"==\"?\n"
          ]
        }
      ],
      "source": [
        "print(8 = people)"
      ]
    },
    {
      "cell_type": "markdown",
      "id": "7921db7c",
      "metadata": {
        "id": "7921db7c"
      },
      "source": [
        "## The correct syntax"
      ]
    },
    {
      "cell_type": "code",
      "execution_count": null,
      "id": "b3d43e03",
      "metadata": {
        "id": "b3d43e03",
        "outputId": "efbe101d-fc7c-4fc7-cdc8-461dc0a77d5d"
      },
      "outputs": [
        {
          "name": "stdout",
          "output_type": "stream",
          "text": [
            "True\n"
          ]
        }
      ],
      "source": [
        "people = 8\n",
        "print(8==people)"
      ]
    },
    {
      "cell_type": "code",
      "execution_count": null,
      "id": "c6271e5d",
      "metadata": {
        "id": "c6271e5d",
        "outputId": "6fba8cb0-883e-4c56-fe83-18b4a68b26d4"
      },
      "outputs": [
        {
          "name": "stdout",
          "output_type": "stream",
          "text": [
            "64\n"
          ]
        }
      ],
      "source": [
        "print((((4 ** 3))))"
      ]
    },
    {
      "cell_type": "code",
      "execution_count": null,
      "id": "db19b157",
      "metadata": {
        "id": "db19b157",
        "outputId": "91fc8204-fa03-4b18-d802-4e48ca066a71"
      },
      "outputs": [
        {
          "name": "stdout",
          "output_type": "stream",
          "text": [
            "5\n"
          ]
        }
      ],
      "source": [
        "print((-(-(-(-5)))))"
      ]
    },
    {
      "cell_type": "code",
      "execution_count": null,
      "id": "cfdb3f00",
      "metadata": {
        "id": "cfdb3f00",
        "outputId": "27ccfeb3-861c-4e83-b29e-bf7227ecf8d2"
      },
      "outputs": [
        {
          "ename": "SyntaxError",
          "evalue": "invalid syntax (1312696180.py, line 2)",
          "output_type": "error",
          "traceback": [
            "\u001b[1;36m  Cell \u001b[1;32mIn[8], line 2\u001b[1;36m\u001b[0m\n\u001b[1;33m    print(4 += 7 / 2)\u001b[0m\n\u001b[1;37m            ^\u001b[0m\n\u001b[1;31mSyntaxError\u001b[0m\u001b[1;31m:\u001b[0m invalid syntax\n"
          ]
        }
      ],
      "source": [
        "## error code\n",
        "print(4 += 7 / 2)"
      ]
    },
    {
      "cell_type": "markdown",
      "id": "61c32f08",
      "metadata": {
        "id": "61c32f08"
      },
      "source": [
        "## Correct Code\n",
        "Literal values cannot be modified or assigned new values in python"
      ]
    },
    {
      "cell_type": "code",
      "execution_count": null,
      "id": "a7777636",
      "metadata": {
        "id": "a7777636",
        "outputId": "f4acef1e-3d15-4186-e766-c5d0bcf15aab"
      },
      "outputs": [
        {
          "name": "stdout",
          "output_type": "stream",
          "text": [
            "7.5\n"
          ]
        }
      ],
      "source": [
        "x = 4\n",
        "x += 7/2\n",
        "print(x)"
      ]
    },
    {
      "cell_type": "markdown",
      "id": "add749c4",
      "metadata": {
        "id": "add749c4"
      },
      "source": [
        "# Question 2"
      ]
    },
    {
      "cell_type": "markdown",
      "id": "c93f62ae",
      "metadata": {
        "id": "c93f62ae"
      },
      "source": [
        "Using only the techniques you have learned so far, write a program that calculates the square\n",
        "aand cube of the numbers from 0 to 10 and uses tabs to print the following table of values:\n",
        "1 to 10"
      ]
    },
    {
      "cell_type": "code",
      "execution_count": null,
      "id": "52a41f0e",
      "metadata": {
        "id": "52a41f0e",
        "outputId": "cfc7f590-4ce3-4422-b173-6c164a2418b4"
      },
      "outputs": [
        {
          "name": "stdout",
          "output_type": "stream",
          "text": [
            "Number\tSquare\tCube\n",
            "0\t0\t0\n",
            "1\t1\t1\n",
            "2\t4\t8\n",
            "3\t9\t27\n",
            "4\t16\t64\n",
            "5\t25\t125\n",
            "6\t36\t216\n",
            "7\t49\t343\n",
            "8\t64\t512\n",
            "9\t81\t729\n",
            "10\t100\t1000\n"
          ]
        }
      ],
      "source": [
        "print(\"Number\\tSquare\\tCube\")\n",
        "\n",
        "num = 0\n",
        "print(f\"{num}\\t{num**2}\\t{num**3}\")\n",
        "num = 1\n",
        "print(f\"{num}\\t{num**2}\\t{num**3}\")\n",
        "num = 2\n",
        "print(f\"{num}\\t{num**2}\\t{num**3}\")\n",
        "num = 3\n",
        "print(f\"{num}\\t{num**2}\\t{num**3}\")\n",
        "num = 4\n",
        "print(f\"{num}\\t{num**2}\\t{num**3}\")\n",
        "num = 5\n",
        "print(f\"{num}\\t{num**2}\\t{num**3}\")\n",
        "num = 6\n",
        "print(f\"{num}\\t{num**2}\\t{num**3}\")\n",
        "num = 7\n",
        "print(f\"{num}\\t{num**2}\\t{num**3}\")\n",
        "num = 8\n",
        "print(f\"{num}\\t{num**2}\\t{num**3}\")\n",
        "num = 9\n",
        "print(f\"{num}\\t{num**2}\\t{num**3}\")\n",
        "num = 10\n",
        "print(f\"{num}\\t{num**2}\\t{num**3}\")"
      ]
    },
    {
      "cell_type": "markdown",
      "id": "8a809179",
      "metadata": {
        "id": "8a809179"
      },
      "source": [
        "# Question 3\n",
        "Write a program that assigns two values to variables aand swap them"
      ]
    },
    {
      "cell_type": "code",
      "execution_count": null,
      "id": "77c1e5bd",
      "metadata": {
        "id": "77c1e5bd",
        "outputId": "c2f2b7ca-975f-40b4-d2ca-f2a4a61e89ce"
      },
      "outputs": [
        {
          "name": "stdout",
          "output_type": "stream",
          "text": [
            "Before Swaping\n",
            "a =  12\n",
            "b =  24\n",
            "After Swaping\n",
            "a =  24\n",
            "b =  12\n"
          ]
        }
      ],
      "source": [
        "a=12\n",
        "b=24\n",
        "\n",
        "print(\"Before Swaping\")\n",
        "print(\"a = \", a)\n",
        "print(\"b = \", b)\n",
        "\n",
        "temp = a\n",
        "a=b\n",
        "b=temp\n",
        "\n",
        "print(\"After Swaping\")\n",
        "print(\"a = \", a)\n",
        "print(\"b = \", b)\n"
      ]
    },
    {
      "cell_type": "markdown",
      "id": "19323180",
      "metadata": {
        "id": "19323180"
      },
      "source": [
        "# Question 4"
      ]
    },
    {
      "cell_type": "code",
      "execution_count": null,
      "id": "f6618a30",
      "metadata": {
        "id": "f6618a30",
        "outputId": "dcb94a07-2c7d-43d3-ff7d-0de4d6aa98a6"
      },
      "outputs": [
        {
          "name": "stdout",
          "output_type": "stream",
          "text": [
            "Enter a five-digit number: 54321\n",
            "Reverse: 15\n"
          ]
        }
      ],
      "source": [
        "\n",
        "num = int(input(\"Enter a five-digit number: \"))\n",
        "\n",
        "reverse = 0\n",
        "reverse += (num % 10)\n",
        "num //= 10\n",
        "reverse += (num % 10)\n",
        "num //= 10\n",
        "reverse += (num % 10)\n",
        "num //= 10\n",
        "reverse += (num % 10)\n",
        "num //= 10\n",
        "reverse += num\n",
        "\n",
        "print(\"Reverse:\", reverse)\n"
      ]
    },
    {
      "cell_type": "markdown",
      "id": "e5736bcf",
      "metadata": {
        "id": "e5736bcf"
      },
      "source": [
        "# Question 5"
      ]
    },
    {
      "cell_type": "code",
      "execution_count": null,
      "id": "a18bb30b",
      "metadata": {
        "id": "a18bb30b",
        "outputId": "e245e0b4-1405-4920-bebd-87ad8c5d2529"
      },
      "outputs": [
        {
          "name": "stdout",
          "output_type": "stream",
          "text": [
            "*********\t     *** \t      *\t            *\n",
            "*\t*\t  *       *          ***\t   * *\n",
            "*\t*\t *         *\t    *****\t  *   *\n",
            "*\t*\t *         *\t      *\t         *     *\n",
            "*\t*\t *         *\t      *\t        *       *\n",
            "*\t*\t *         *\t      *\t         *     *\n",
            "*\t*\t *         *\t      *\t          *   *\n",
            "*\t*\t  *       *\t      *\t           * *\n",
            "********* \t     ***\t      *\t            *\n"
          ]
        }
      ],
      "source": [
        "shape = '*'\n",
        "\n",
        "print(f\"{shape*9}\\t     {shape*3} \\t      {shape}\\t            {shape}\")\n",
        "print(f\"{shape}\\t{shape}\\t  {shape}       {shape}          {shape*3}\\t   {shape} {shape}\")\n",
        "print(f\"{shape}\\t{shape}\\t {shape}         {shape}\\t    {shape*5}\\t  {shape}   {shape}\")\n",
        "print(f\"{shape}\\t{shape}\\t {shape}         {shape}\\t      {shape}\\t         {shape}     {shape}\")\n",
        "print(f\"{shape}\\t{shape}\\t {shape}         {shape}\\t      {shape}\\t        {shape}       {shape}\")\n",
        "print(f\"{shape}\\t{shape}\\t {shape}         {shape}\\t      {shape}\\t         {shape}     {shape}\")\n",
        "print(f\"{shape}\\t{shape}\\t {shape}         {shape}\\t      {shape}\\t          {shape}   {shape}\")\n",
        "print(f\"{shape}\\t{shape}\\t  {shape}       {shape}\\t      {shape}\\t           {shape} {shape}\")\n",
        "print(f\"{shape*9} \\t     {shape*3}\\t      {shape}\\t            {shape}\")"
      ]
    },
    {
      "cell_type": "code",
      "execution_count": null,
      "id": "9e79e04d",
      "metadata": {
        "id": "9e79e04d",
        "outputId": "c6ab4e90-1245-4c82-ed25-dc6be52c86b3"
      },
      "outputs": [
        {
          "name": "stdout",
          "output_type": "stream",
          "text": [
            "Enter Grades: 10.2\n",
            "Bad Score\n"
          ]
        }
      ],
      "source": [
        "score = float(input('Enter Grades: '))\n",
        "if 0.0 <= score < 1.0:\n",
        "    if score < 0.6:\n",
        "        print('F')\n",
        "    elif score <= 0.6:\n",
        "        print('D')\n",
        "    elif score <= 0.7:\n",
        "        print('C')\n",
        "    elif score <= 0.8:\n",
        "        print('B')\n",
        "    elif score <= 0.9:\n",
        "        print('A')\n",
        "else:\n",
        "    print('Bad Score')\n"
      ]
    },
    {
      "cell_type": "markdown",
      "id": "ca30f3b6",
      "metadata": {
        "id": "ca30f3b6"
      },
      "source": [
        "# Question 6"
      ]
    },
    {
      "cell_type": "code",
      "execution_count": null,
      "id": "cdff15f0",
      "metadata": {
        "id": "cdff15f0",
        "outputId": "470d8a45-7340-4f3f-a21b-5135d27850b6"
      },
      "outputs": [
        {
          "name": "stdout",
          "output_type": "stream",
          "text": [
            "enter three sides of triangle accordingly: 5 4 3\n",
            "The three integers are the sides of a right triangle\n"
          ]
        }
      ],
      "source": [
        "x , y, z = input(\"enter three sides of triangle accordingly: \").split()\n",
        "x , y, z = int(x), int(y), int(z)\n",
        "if x ** 2 == y ** 2 + z ** 2:\n",
        "    print(\"The three integers are the sides of a right triangle\")\n",
        "else:\n",
        "    print('The three integers are not the sides of a right triangle')"
      ]
    },
    {
      "cell_type": "code",
      "execution_count": null,
      "id": "3afbf405",
      "metadata": {
        "id": "3afbf405",
        "outputId": "8816802d-d8af-4d0b-f8be-1596fceb1765"
      },
      "outputs": [
        {
          "name": "stdout",
          "output_type": "stream",
          "text": [
            "Enter a number: 112211\n",
            "the number is not palindrome\n"
          ]
        }
      ],
      "source": [
        "num = input(\"Enter a number: \")\n",
        "\n",
        "reverse = num[::-1]\n",
        "if reverse == num:\n",
        "    print(\"the number is palindrome\")\n",
        "else:\n",
        "    print(\"the number is not palindrome\")"
      ]
    },
    {
      "cell_type": "code",
      "execution_count": null,
      "id": "c433568e",
      "metadata": {
        "id": "c433568e",
        "outputId": "ee2988c1-9d45-4782-ae50-45f2471e8b56"
      },
      "outputs": [
        {
          "name": "stdout",
          "output_type": "stream",
          "text": [
            "Enter hours: 9\n",
            "1 for am, 2 for pm: 1\n",
            "How many hours ahead: 5\n",
            "New hour 2 pm\n"
          ]
        }
      ],
      "source": [
        "time = int(input(\"Enter hours: \"))\n",
        "if time <=12:\n",
        "    am_pm = int(input(\"1 for am, 2 for pm: \"))\n",
        "    h_hours = int(input(\"How many hours ahead: \"))\n",
        "\n",
        "\n",
        "    if am_pm == 1:\n",
        "        h_hours = time+h_hours\n",
        "        if h_hours <= 12:\n",
        "            print(\"New hour: \",h_hours, \"am\")\n",
        "        else:\n",
        "            print(\"New hour\", h_hours-12, \"pm\")\n",
        "    elif am_pm == 1:\n",
        "        h_hours = time+h_hours\n",
        "        if h_hours >= 12:\n",
        "            print(\"New hour: \",h_hours, \"am\")\n",
        "        else:\n",
        "            print(\"New hour\", h_hours-12, \"pm\")\n",
        "\n",
        "else:\n",
        "    print(\"invalid time\")\n",
        ""
      ]
    },
    {
      "cell_type": "code",
      "execution_count": null,
      "id": "957cffc8",
      "metadata": {
        "id": "957cffc8"
      },
      "outputs": [],
      "source": []
    }
  ],
  "metadata": {
    "kernelspec": {
      "display_name": "Python 3 (ipykernel)",
      "language": "python",
      "name": "python3"
    },
    "language_info": {
      "codemirror_mode": {
        "name": "ipython",
        "version": 3
      },
      "file_extension": ".py",
      "mimetype": "text/x-python",
      "name": "python",
      "nbconvert_exporter": "python",
      "pygments_lexer": "ipython3",
      "version": "3.11.1"
    },
    "colab": {
      "provenance": [],
      "include_colab_link": true
    }
  },
  "nbformat": 4,
  "nbformat_minor": 5
}