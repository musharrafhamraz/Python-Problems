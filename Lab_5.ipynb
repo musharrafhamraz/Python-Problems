{
  "cells": [
    {
      "cell_type": "markdown",
      "metadata": {
        "id": "view-in-github",
        "colab_type": "text"
      },
      "source": [
        "<a href=\"https://colab.research.google.com/github/musharrafhamraz/Python-Problems/blob/main/Lab_5.ipynb\" target=\"_parent\"><img src=\"https://colab.research.google.com/assets/colab-badge.svg\" alt=\"Open In Colab\"/></a>"
      ]
    },
    {
      "cell_type": "code",
      "execution_count": null,
      "id": "e621651e",
      "metadata": {
        "id": "e621651e",
        "outputId": "078c6355-8110-42bd-ffb7-34bd138e86fe"
      },
      "outputs": [
        {
          "name": "stdout",
          "output_type": "stream",
          "text": [
            "Enter a line of text: Hello world\n",
            "The uppercase of line is\n",
            " HELLO WORLD\n",
            "The uppercase of line is\n",
            " hello world\n"
          ]
        }
      ],
      "source": [
        "# Task1: Write a program that inputs a line of text. Output the text in uppercase letters and in\n",
        "# lowercase letters using built-in functions.\n",
        "\n",
        "string = input(\"Enter a line of text: \")\n",
        "\n",
        "print(\"The uppercase of line is\\n\",string.upper())\n",
        "\n",
        "print(\"The uppercase of line is\\n\",string.lower())"
      ]
    },
    {
      "cell_type": "code",
      "execution_count": null,
      "id": "0942cb79",
      "metadata": {
        "id": "0942cb79",
        "outputId": "74bea220-f6b0-405a-ce70-d107ffacb902"
      },
      "outputs": [
        {
          "name": "stdout",
          "output_type": "stream",
          "text": [
            "Enter a line: my name is musharraf hamraz\n",
            "5\n"
          ]
        }
      ],
      "source": [
        "# 2. A simple way to estimate the number of words in a string is to count the number of\n",
        "# spaces in the string. Write a program that asks the user for a string and returns an\n",
        "# estimate of how many words are in the string.\n",
        "\n",
        "sentence = input(\"Enter a line: \")\n",
        "x = sentence.split()\n",
        "print(len(x))\n",
        "\n"
      ]
    },
    {
      "cell_type": "code",
      "execution_count": null,
      "id": "b1989646",
      "metadata": {
        "id": "b1989646",
        "outputId": "84ea0c1f-0edb-4a07-b10c-9b44a80c05a8"
      },
      "outputs": [
        {
          "name": "stdout",
          "output_type": "stream",
          "text": [
            "Enter two words :musharraf hamraz\n",
            "musharraf is greater then hamraz\n"
          ]
        }
      ],
      "source": [
        "# Write a program that asks the user to enter a string s and then converts s to lowercase,\n",
        "# removes all the periods and commas from s, and prints the resulting string.(Hint: use the\n",
        "# split method)\n",
        "\n",
        "def words_compare(alphabet, alphabet_sec):\n",
        "\n",
        "    if alphabet > alphabet_sec:\n",
        "        print(alphabet, 'is greater then', alphabet_sec )\n",
        "\n",
        "    elif alphabet == alphabet_sec:\n",
        "        print(alphabet, 'is equal to', alphabet_sec)\n",
        "\n",
        "    else:\n",
        "        print(alphabet_sec, 'is greater then', alphabet)\n",
        "\n",
        "a , b = input('Enter two words :').split()\n",
        "\n",
        "words_compare(a, b)"
      ]
    },
    {
      "cell_type": "code",
      "execution_count": null,
      "id": "ef70cb55",
      "metadata": {
        "id": "ef70cb55",
        "outputId": "40eff926-52d3-4e2d-f19b-05e1a94733b2"
      },
      "outputs": [
        {
          "name": "stdout",
          "output_type": "stream",
          "text": [
            "[4353, 2314, 2956, 9362, 3900]\n",
            "3\n",
            "[4353, 2314, 2956, 9362, 4499, 3900]\n"
          ]
        },
        {
          "data": {
            "text/plain": [
              "[1830, 2314, 2956, 3900, 4353, 4499, 5566, 9362]"
            ]
          },
          "execution_count": 35,
          "metadata": {},
          "output_type": "execute_result"
        }
      ],
      "source": [
        "# Task4: A variable ids refers to the list [4353, 2314, 2956, 3382, 9362, 3900]. Using list\n",
        "# methods, do the following:\n",
        "# a. Remove 3382 from the list.\n",
        "# b. Get the index of 9362.\n",
        "# c. Insert 4499 in the list after 9362.\n",
        "# d. Extend the list by adding [5566, 1830] to it.\n",
        "# e. Reverse the list.\n",
        "# f. Sort the list.\n",
        "\n",
        "lst = [4353, 2314, 2956, 3382, 9362, 3900]\n",
        "\n",
        "lst.remove(3382)\n",
        "print(lst)\n",
        "\n",
        "print(lst.index(9362))\n",
        "lst.insert(4, 4499)\n",
        "print(lst)\n",
        "\n",
        "lst.extend([5566,1830])\n",
        "lst\n",
        "\n",
        "lst.reverse()\n",
        "lst\n",
        "\n",
        "lst.sort()\n",
        "lst\n",
        "\n"
      ]
    },
    {
      "cell_type": "code",
      "execution_count": null,
      "id": "d497c775",
      "metadata": {
        "id": "d497c775",
        "outputId": "c82e70bb-8c8d-4ead-972e-ccceb04fcb9a"
      },
      "outputs": [
        {
          "name": "stdout",
          "output_type": "stream",
          "text": [
            "The mean of the list is  4\n",
            "The median of the list is  3\n"
          ]
        },
        {
          "ename": "AttributeError",
          "evalue": "module 'numpy' has no attribute 'mode'",
          "output_type": "error",
          "traceback": [
            "\u001b[1;31m---------------------------------------------------------------------------\u001b[0m",
            "\u001b[1;31mAttributeError\u001b[0m                            Traceback (most recent call last)",
            "Cell \u001b[1;32mIn[44], line 11\u001b[0m\n\u001b[0;32m      9\u001b[0m y \u001b[38;5;241m=\u001b[39m np\u001b[38;5;241m.\u001b[39mmedian(up_lst)\n\u001b[0;32m     10\u001b[0m \u001b[38;5;28mprint\u001b[39m(\u001b[38;5;124m'\u001b[39m\u001b[38;5;124mThe median of the list is \u001b[39m\u001b[38;5;124m'\u001b[39m,\u001b[38;5;28mint\u001b[39m(y))\n\u001b[1;32m---> 11\u001b[0m z \u001b[38;5;241m=\u001b[39m \u001b[43mnp\u001b[49m\u001b[38;5;241;43m.\u001b[39;49m\u001b[43mmode\u001b[49m(up_lst)\n\u001b[0;32m     12\u001b[0m \u001b[38;5;28mprint\u001b[39m(\u001b[38;5;124m'\u001b[39m\u001b[38;5;124mThe mode of the list is \u001b[39m\u001b[38;5;124m'\u001b[39m,\u001b[38;5;28mint\u001b[39m(z))\n",
            "File \u001b[1;32m~\\AppData\\Local\\Programs\\Python\\Python311\\Lib\\site-packages\\numpy\\__init__.py:320\u001b[0m, in \u001b[0;36m__getattr__\u001b[1;34m(attr)\u001b[0m\n\u001b[0;32m    317\u001b[0m     \u001b[38;5;28;01mfrom\u001b[39;00m \u001b[38;5;21;01m.\u001b[39;00m\u001b[38;5;21;01mtesting\u001b[39;00m \u001b[38;5;28;01mimport\u001b[39;00m Tester\n\u001b[0;32m    318\u001b[0m     \u001b[38;5;28;01mreturn\u001b[39;00m Tester\n\u001b[1;32m--> 320\u001b[0m \u001b[38;5;28;01mraise\u001b[39;00m \u001b[38;5;167;01mAttributeError\u001b[39;00m(\u001b[38;5;124m\"\u001b[39m\u001b[38;5;124mmodule \u001b[39m\u001b[38;5;132;01m{!r}\u001b[39;00m\u001b[38;5;124m has no attribute \u001b[39m\u001b[38;5;124m\"\u001b[39m\n\u001b[0;32m    321\u001b[0m                      \u001b[38;5;124m\"\u001b[39m\u001b[38;5;132;01m{!r}\u001b[39;00m\u001b[38;5;124m\"\u001b[39m\u001b[38;5;241m.\u001b[39mformat(\u001b[38;5;18m__name__\u001b[39m, attr))\n",
            "\u001b[1;31mAttributeError\u001b[0m: module 'numpy' has no attribute 'mode'"
          ]
        }
      ],
      "source": [
        "# Task6. Write a function each for mean, median and mode that accepts a list as an argument.\n",
        "# The mean, median, and mode functions return an integer\n",
        "import numpy as np\n",
        "lst = [1,3,6,2,5,9,2]\n",
        "up_lst = np.array(lst)\n",
        "\n",
        "x = up_lst.mean()\n",
        "print('The mean of the list is ',int(x))\n",
        "y = np.median(up_lst)\n",
        "print('The median of the list is ',int(y))\n",
        "z = np.mode(up_lst)\n",
        "print('The mode of the list is ',int(z))\n",
        ""
      ]
    },
    {
      "cell_type": "code",
      "execution_count": null,
      "id": "f1c9db26",
      "metadata": {
        "id": "f1c9db26",
        "outputId": "0f20941b-0c49-4951-a616-233f19b597de"
      },
      "outputs": [
        {
          "name": "stdout",
          "output_type": "stream",
          "text": [
            "[2, 3, 4, 5, 1]\n"
          ]
        }
      ],
      "source": [
        "# Task 7: Write a program that rotates the elements of a list so that the element at the first index\n",
        "# ves to the second index, the element in the second index moves to the third index,\n",
        "# , and the element in the last index moves to the first index\n",
        "\n",
        "\n",
        "def rotate_list(lst):\n",
        "    i-= 0\n",
        "\n",
        "    if len(lst) < 2:\n",
        "        return lst\n",
        "    while i <= len(lst):\n",
        "        element_one = lst.pop(i)\n",
        "        lst.append(element_one)\n",
        "        i+=1\n",
        "    rotated_list = rotate_list(my_list)\n",
        "    return lst\n",
        "\n",
        "    my_list = [1, 2, 3, 4, 5]\n",
        "\n",
        "\n",
        "\n",
        "print(rotated_list)\n",
        "\n",
        "\n",
        ""
      ]
    },
    {
      "cell_type": "code",
      "execution_count": null,
      "id": "d731f49b",
      "metadata": {
        "id": "d731f49b",
        "outputId": "230b77ee-0d22-425a-99c3-bcd9d23fdb15"
      },
      "outputs": [
        {
          "name": "stdout",
          "output_type": "stream",
          "text": [
            "Sum\tPercentage\n",
            "-----------------\n",
            "2\t2.77%\n",
            "3\t5.70%\n",
            "4\t8.57%\n",
            "5\t10.57%\n",
            "6\t13.59%\n",
            "7\t16.71%\n",
            "8\t14.05%\n",
            "9\t11.23%\n",
            "10\t8.32%\n",
            "11\t5.81%\n",
            "12\t2.68%\n"
          ]
        }
      ],
      "source": [
        "# Task5: When playing games where you have to roll two dice, it is nice to know the odds of each\n",
        "#roll. For instance, the odds of rolling a 12 are about 3%, and the odds of rolling a 7 are\n",
        "#about 17%. You can compute these mathematically, but if you don’t know the math, you\n",
        "#can write a program to do it. To do this, your program should simulate rolling two dice\n",
        "#about 10,000 times and compute and print out the percentage of rolls that come out to\n",
        "#be 2, 3, 4, . . . , 12. Print the results in a table format.\n",
        "\n",
        "import random\n",
        "\n",
        "def roll_two_dice():\n",
        "    \"\"\"Simulates rolling two dice and returns their sum.\"\"\"\n",
        "    dice1 = random.randint(1, 6)\n",
        "    dice2 = random.randint(1, 6)\n",
        "    return dice1 + dice2\n",
        "\n",
        "\n",
        "counts = {i: 0 for i in range(2, 13)}\n",
        "\n",
        "num_rolls = 10000\n",
        "\n",
        "for _ in range(num_rolls):\n",
        "    roll_sum = roll_two_dice()\n",
        "    counts[roll_sum] += 1\n",
        "\n",
        "print(\"Sum\\tPercentage\")\n",
        "print(\"-----------------\")\n",
        "for i in range(2, 13):\n",
        "    percentage = (counts[i] / num_rolls) * 100\n",
        "    print(f\"{i}\\t{percentage:.2f}%\")\n",
        "\n",
        "\n"
      ]
    },
    {
      "cell_type": "code",
      "execution_count": null,
      "id": "dc2af75b",
      "metadata": {
        "id": "dc2af75b"
      },
      "outputs": [],
      "source": []
    }
  ],
  "metadata": {
    "kernelspec": {
      "display_name": "Python 3 (ipykernel)",
      "language": "python",
      "name": "python3"
    },
    "language_info": {
      "codemirror_mode": {
        "name": "ipython",
        "version": 3
      },
      "file_extension": ".py",
      "mimetype": "text/x-python",
      "name": "python",
      "nbconvert_exporter": "python",
      "pygments_lexer": "ipython3",
      "version": "3.11.1"
    },
    "colab": {
      "provenance": [],
      "include_colab_link": true
    }
  },
  "nbformat": 4,
  "nbformat_minor": 5
}