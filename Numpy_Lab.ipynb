{
  "cells": [
    {
      "cell_type": "markdown",
      "metadata": {
        "id": "view-in-github",
        "colab_type": "text"
      },
      "source": [
        "<a href=\"https://colab.research.google.com/github/musharrafhamraz/Python-Problems/blob/main/Numpy_Lab.ipynb\" target=\"_parent\"><img src=\"https://colab.research.google.com/assets/colab-badge.svg\" alt=\"Open In Colab\"/></a>"
      ]
    },
    {
      "cell_type": "code",
      "execution_count": null,
      "id": "82bf2fe6",
      "metadata": {
        "id": "82bf2fe6"
      },
      "outputs": [],
      "source": [
        "import numpy as np"
      ]
    },
    {
      "cell_type": "code",
      "execution_count": null,
      "id": "38c95a78",
      "metadata": {
        "id": "38c95a78"
      },
      "outputs": [],
      "source": [
        "a = np.array([1,2,3,4,5,6], dtype='int32')\n",
        "b = np.array([7,8,9,1,3,4], dtype='int32')"
      ]
    },
    {
      "cell_type": "code",
      "execution_count": null,
      "id": "7e19d012",
      "metadata": {
        "id": "7e19d012",
        "outputId": "915a9336-6d78-4399-cd32-c5299f004ab7"
      },
      "outputs": [
        {
          "name": "stdout",
          "output_type": "stream",
          "text": [
            "The mean for the a:  3.5\n",
            "The mean for the b:  5.333333333333333\n"
          ]
        }
      ],
      "source": [
        "print('The mean for the a: ',a.mean())\n",
        "print('The mean for the b: ',b.mean())"
      ]
    },
    {
      "cell_type": "code",
      "execution_count": null,
      "id": "5f8981b8",
      "metadata": {
        "id": "5f8981b8",
        "outputId": "f5142fbd-ef49-4f6f-ca81-4605e006edf1"
      },
      "outputs": [
        {
          "data": {
            "text/plain": [
              "1"
            ]
          },
          "execution_count": 4,
          "metadata": {},
          "output_type": "execute_result"
        }
      ],
      "source": [
        "a.min()"
      ]
    },
    {
      "cell_type": "code",
      "execution_count": null,
      "id": "2f05c9ac",
      "metadata": {
        "id": "2f05c9ac",
        "outputId": "19b850f4-e28f-40fb-8536-c9313e09af1f"
      },
      "outputs": [
        {
          "data": {
            "text/plain": [
              "6"
            ]
          },
          "execution_count": 5,
          "metadata": {},
          "output_type": "execute_result"
        }
      ],
      "source": [
        "a.max()"
      ]
    },
    {
      "cell_type": "code",
      "execution_count": null,
      "id": "fbefad52",
      "metadata": {
        "id": "fbefad52",
        "outputId": "8d6a928d-e411-4497-cfa4-1f4b96670d0a"
      },
      "outputs": [
        {
          "data": {
            "text/plain": [
              "array([1, 4, 7])"
            ]
          },
          "execution_count": 6,
          "metadata": {},
          "output_type": "execute_result"
        }
      ],
      "source": [
        "np.arange(1,8,3)"
      ]
    },
    {
      "cell_type": "code",
      "execution_count": null,
      "id": "01784536",
      "metadata": {
        "id": "01784536",
        "outputId": "275b75b5-9553-41df-e803-c3bcd0792643"
      },
      "outputs": [
        {
          "data": {
            "text/plain": [
              "array([[0., 0., 0., 0.],\n",
              "       [0., 0., 0., 0.],\n",
              "       [0., 0., 0., 0.],\n",
              "       [0., 0., 0., 0.]])"
            ]
          },
          "execution_count": 7,
          "metadata": {},
          "output_type": "execute_result"
        }
      ],
      "source": [
        "np.zeros((4,4))"
      ]
    },
    {
      "cell_type": "code",
      "execution_count": null,
      "id": "62a3cab9",
      "metadata": {
        "id": "62a3cab9",
        "outputId": "23c082f8-bf24-4d07-b507-cff7f1c77d19"
      },
      "outputs": [
        {
          "data": {
            "text/plain": [
              "array([[1., 1., 1., 1., 1., 1.],\n",
              "       [1., 1., 1., 1., 1., 1.],\n",
              "       [1., 1., 1., 1., 1., 1.]])"
            ]
          },
          "execution_count": 8,
          "metadata": {},
          "output_type": "execute_result"
        }
      ],
      "source": [
        "np.ones((3,6))"
      ]
    },
    {
      "cell_type": "code",
      "execution_count": null,
      "id": "de8c4bee",
      "metadata": {
        "id": "de8c4bee",
        "outputId": "6122eca0-3add-4a6d-e7db-f0007a442316"
      },
      "outputs": [
        {
          "data": {
            "text/plain": [
              "array([['a', 'a'],\n",
              "       ['a', 'a'],\n",
              "       ['a', 'a']], dtype='<U1')"
            ]
          },
          "execution_count": 9,
          "metadata": {},
          "output_type": "execute_result"
        }
      ],
      "source": [
        "np.full((3,2), 'a')"
      ]
    },
    {
      "cell_type": "code",
      "execution_count": null,
      "id": "d129c560",
      "metadata": {
        "id": "d129c560",
        "outputId": "4228d95b-8269-4e71-c5d9-00fdb9f052e5"
      },
      "outputs": [
        {
          "data": {
            "text/plain": [
              "array([[1., 0., 0., 0., 0.],\n",
              "       [0., 1., 0., 0., 0.],\n",
              "       [0., 0., 1., 0., 0.],\n",
              "       [0., 0., 0., 1., 0.],\n",
              "       [0., 0., 0., 0., 1.]])"
            ]
          },
          "execution_count": 10,
          "metadata": {},
          "output_type": "execute_result"
        }
      ],
      "source": [
        "np.eye(5)"
      ]
    },
    {
      "cell_type": "code",
      "execution_count": null,
      "id": "47535e44",
      "metadata": {
        "id": "47535e44",
        "outputId": "690d4e04-f8f7-4e6b-98cb-df3e253346a0"
      },
      "outputs": [
        {
          "data": {
            "text/plain": [
              "array([[0.22336216, 0.37410119, 0.42653558],\n",
              "       [0.1871641 , 0.71134207, 0.82734459]])"
            ]
          },
          "execution_count": 11,
          "metadata": {},
          "output_type": "execute_result"
        }
      ],
      "source": [
        "np.random.random((2,3))"
      ]
    },
    {
      "cell_type": "code",
      "execution_count": null,
      "id": "c149411c",
      "metadata": {
        "id": "c149411c",
        "outputId": "3a48c225-88e3-4cc4-8836-2dfe9a4e310a"
      },
      "outputs": [
        {
          "data": {
            "text/plain": [
              "array([[False, False],\n",
              "       [ True,  True],\n",
              "       [ True,  True]])"
            ]
          },
          "execution_count": 12,
          "metadata": {},
          "output_type": "execute_result"
        }
      ],
      "source": [
        "a = np.array([[1,2],[3,4],[5,6]])\n",
        "bool_idx = (a>2)\n",
        "bool_idx"
      ]
    },
    {
      "cell_type": "code",
      "execution_count": null,
      "id": "6dfcea35",
      "metadata": {
        "id": "6dfcea35",
        "outputId": "bd85f03a-ac80-424d-92cf-9b09caa4519d"
      },
      "outputs": [
        {
          "name": "stdout",
          "output_type": "stream",
          "text": [
            "[372]\n"
          ]
        }
      ],
      "source": [
        "b= np.array([372, 4,4,5])\n",
        "print(b[b>99])"
      ]
    },
    {
      "cell_type": "code",
      "execution_count": null,
      "id": "762e64ac",
      "metadata": {
        "id": "762e64ac"
      },
      "outputs": [],
      "source": [
        "a = np.array([[1,2,3],[4,5,6]], dtype='int32')\n",
        "b = np.array([[7,8,9],[1,3,4]], dtype='int32')"
      ]
    },
    {
      "cell_type": "code",
      "execution_count": null,
      "id": "cf9bd7d0",
      "metadata": {
        "id": "cf9bd7d0",
        "outputId": "07aef504-a5c7-4549-ba84-0063f86e8604"
      },
      "outputs": [
        {
          "name": "stdout",
          "output_type": "stream",
          "text": [
            "[[ 8 10 12]\n",
            " [ 5  8 10]]\n",
            "[[ 8 10 12]\n",
            " [ 5  8 10]]\n"
          ]
        }
      ],
      "source": [
        "print(a+b)\n",
        "print(np.add(a,b))"
      ]
    },
    {
      "cell_type": "code",
      "execution_count": null,
      "id": "388b3433",
      "metadata": {
        "id": "388b3433",
        "outputId": "d7d14ae6-eb51-4cef-b130-43b0b3ffeae9"
      },
      "outputs": [
        {
          "name": "stdout",
          "output_type": "stream",
          "text": [
            "[[-6 -6 -6]\n",
            " [ 3  2  2]]\n",
            "[[-6 -6 -6]\n",
            " [ 3  2  2]]\n"
          ]
        }
      ],
      "source": [
        "print(a-b)\n",
        "print(np.subtract(a,b))"
      ]
    },
    {
      "cell_type": "code",
      "execution_count": null,
      "id": "202812aa",
      "metadata": {
        "id": "202812aa",
        "outputId": "54f852ec-4504-44c1-c789-7e12ad95eb81"
      },
      "outputs": [
        {
          "name": "stdout",
          "output_type": "stream",
          "text": [
            "[[ 7 16 27]\n",
            " [ 4 15 24]]\n",
            "[[ 7 16 27]\n",
            " [ 4 15 24]]\n"
          ]
        }
      ],
      "source": [
        "print(a*b)\n",
        "print(np.multiply(a,b))"
      ]
    },
    {
      "cell_type": "code",
      "execution_count": null,
      "id": "6a503b97",
      "metadata": {
        "id": "6a503b97",
        "outputId": "ab0bbf27-e4fa-493e-cabc-229a37f04c90"
      },
      "outputs": [
        {
          "name": "stdout",
          "output_type": "stream",
          "text": [
            "[[0.14285714 0.25       0.33333333]\n",
            " [4.         1.66666667 1.5       ]]\n",
            "[[0.14285714 0.25       0.33333333]\n",
            " [4.         1.66666667 1.5       ]]\n"
          ]
        }
      ],
      "source": [
        "print(a/b)\n",
        "print(np.divide(a,b))"
      ]
    },
    {
      "cell_type": "code",
      "execution_count": null,
      "id": "9acd3c6c",
      "metadata": {
        "id": "9acd3c6c",
        "outputId": "a56a4dbe-f41a-4f41-9684-1c4ebf8cbadb"
      },
      "outputs": [
        {
          "name": "stdout",
          "output_type": "stream",
          "text": [
            "Sqaure root for a is:\n",
            " [[1.         1.41421356 1.73205081]\n",
            " [2.         2.23606798 2.44948974]] \n",
            "\n",
            "Sqaure root for b is:\n",
            " [[2.64575131 2.82842712 3.        ]\n",
            " [1.         1.73205081 2.        ]]\n"
          ]
        }
      ],
      "source": [
        "print(\"Sqaure root for a is:\\n\",np.sqrt(a),'\\n')\n",
        "print(\"Sqaure root for b is:\\n\",np.sqrt(b))"
      ]
    },
    {
      "cell_type": "code",
      "execution_count": null,
      "id": "67fe883a",
      "metadata": {
        "id": "67fe883a"
      },
      "outputs": [],
      "source": [
        "x = np.array([1,2,3,4,5,6], dtype='int32')\n",
        "y = np.array([7,8,9,1,3,4], dtype='int32')"
      ]
    },
    {
      "cell_type": "code",
      "execution_count": null,
      "id": "2432aa2c",
      "metadata": {
        "id": "2432aa2c",
        "outputId": "6acda18d-d819-4803-d5ea-bc08e4999d8c"
      },
      "outputs": [
        {
          "name": "stdout",
          "output_type": "stream",
          "text": [
            "93\n",
            "93\n",
            "93\n"
          ]
        }
      ],
      "source": [
        "print(x@y)\n",
        "print(np.dot(x,y))\n",
        "print(x.dot(y))"
      ]
    },
    {
      "cell_type": "code",
      "execution_count": null,
      "id": "ecfcf9d9",
      "metadata": {
        "id": "ecfcf9d9",
        "outputId": "a93b9e92-9a3f-4692-ed73-83e7fd160090"
      },
      "outputs": [
        {
          "name": "stdout",
          "output_type": "stream",
          "text": [
            "[[1 2 3]\n",
            " [4 5 6]]\n",
            "Transpose\n",
            " [[1 4]\n",
            " [2 5]\n",
            " [3 6]]\n"
          ]
        }
      ],
      "source": [
        "print(a)\n",
        "print(\"Transpose\\n\",a.T)"
      ]
    },
    {
      "cell_type": "code",
      "execution_count": null,
      "id": "3760a64f",
      "metadata": {
        "id": "3760a64f",
        "outputId": "d48c3578-aeac-4f0a-d2de-1c4ff7baf460"
      },
      "outputs": [
        {
          "data": {
            "text/plain": [
              "array([[5, 4, 6, 6, 6],\n",
              "       [3, 5, 1, 2, 5],\n",
              "       [5, 5, 3, 4, 2],\n",
              "       [3, 3, 3, 6, 1]])"
            ]
          },
          "execution_count": 28,
          "metadata": {},
          "output_type": "execute_result"
        }
      ],
      "source": [
        "np.random.randint(1,7,(4,5))"
      ]
    },
    {
      "cell_type": "code",
      "execution_count": null,
      "id": "18bad720",
      "metadata": {
        "id": "18bad720",
        "outputId": "d7052831-ee7b-4583-9c1c-e5cfae1a36dc"
      },
      "outputs": [
        {
          "data": {
            "text/plain": [
              "1.215683345345114"
            ]
          },
          "execution_count": 29,
          "metadata": {},
          "output_type": "execute_result"
        }
      ],
      "source": [
        "np.random.randn()"
      ]
    },
    {
      "cell_type": "code",
      "execution_count": null,
      "id": "a2801ddf",
      "metadata": {
        "id": "a2801ddf",
        "outputId": "1dade3ca-d963-45ce-d72b-72bc6d476237"
      },
      "outputs": [
        {
          "name": "stdout",
          "output_type": "stream",
          "text": [
            "batch1$\n"
          ]
        }
      ],
      "source": [
        "s1 = '1$'\n",
        "s2 = 'batch'\n",
        "\n",
        "x = np.char.add(s2,s1)\n",
        "print(x)"
      ]
    },
    {
      "cell_type": "code",
      "execution_count": null,
      "id": "01ffb5fb",
      "metadata": {
        "id": "01ffb5fb"
      },
      "outputs": [],
      "source": []
    }
  ],
  "metadata": {
    "kernelspec": {
      "display_name": "Python 3 (ipykernel)",
      "language": "python",
      "name": "python3"
    },
    "language_info": {
      "codemirror_mode": {
        "name": "ipython",
        "version": 3
      },
      "file_extension": ".py",
      "mimetype": "text/x-python",
      "name": "python",
      "nbconvert_exporter": "python",
      "pygments_lexer": "ipython3",
      "version": "3.11.1"
    },
    "colab": {
      "provenance": [],
      "include_colab_link": true
    }
  },
  "nbformat": 4,
  "nbformat_minor": 5
}