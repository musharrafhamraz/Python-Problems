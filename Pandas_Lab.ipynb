{
  "cells": [
    {
      "cell_type": "markdown",
      "metadata": {
        "id": "view-in-github",
        "colab_type": "text"
      },
      "source": [
        "<a href=\"https://colab.research.google.com/github/musharrafhamraz/Python-Problems/blob/main/Pandas_Lab.ipynb\" target=\"_parent\"><img src=\"https://colab.research.google.com/assets/colab-badge.svg\" alt=\"Open In Colab\"/></a>"
      ]
    },
    {
      "cell_type": "code",
      "execution_count": null,
      "id": "b08e703d",
      "metadata": {
        "id": "b08e703d"
      },
      "outputs": [],
      "source": [
        "import pandas as pd"
      ]
    },
    {
      "cell_type": "code",
      "execution_count": null,
      "id": "afcfb26a",
      "metadata": {
        "id": "afcfb26a"
      },
      "outputs": [],
      "source": [
        "dict = {\n",
        "    \"friuts\": [1,2,3,4],\n",
        "    \"oranges\": [1,2,3,4]\n",
        "}"
      ]
    },
    {
      "cell_type": "code",
      "execution_count": null,
      "id": "98439dd7",
      "metadata": {
        "id": "98439dd7",
        "outputId": "6c9f9142-d26e-4eaa-ba95-93893c1adcd3"
      },
      "outputs": [
        {
          "data": {
            "text/html": [
              "<div>\n",
              "<style scoped>\n",
              "    .dataframe tbody tr th:only-of-type {\n",
              "        vertical-align: middle;\n",
              "    }\n",
              "\n",
              "    .dataframe tbody tr th {\n",
              "        vertical-align: top;\n",
              "    }\n",
              "\n",
              "    .dataframe thead th {\n",
              "        text-align: right;\n",
              "    }\n",
              "</style>\n",
              "<table border=\"1\" class=\"dataframe\">\n",
              "  <thead>\n",
              "    <tr style=\"text-align: right;\">\n",
              "      <th></th>\n",
              "      <th>friuts</th>\n",
              "      <th>oranges</th>\n",
              "    </tr>\n",
              "  </thead>\n",
              "  <tbody>\n",
              "    <tr>\n",
              "      <th>Hello</th>\n",
              "      <td>1</td>\n",
              "      <td>1</td>\n",
              "    </tr>\n",
              "    <tr>\n",
              "      <th>hello</th>\n",
              "      <td>2</td>\n",
              "      <td>2</td>\n",
              "    </tr>\n",
              "    <tr>\n",
              "      <th>my</th>\n",
              "      <td>3</td>\n",
              "      <td>3</td>\n",
              "    </tr>\n",
              "    <tr>\n",
              "      <th>name</th>\n",
              "      <td>4</td>\n",
              "      <td>4</td>\n",
              "    </tr>\n",
              "  </tbody>\n",
              "</table>\n",
              "</div>"
            ],
            "text/plain": [
              "       friuts  oranges\n",
              "Hello       1        1\n",
              "hello       2        2\n",
              "my          3        3\n",
              "name        4        4"
            ]
          },
          "execution_count": 3,
          "metadata": {},
          "output_type": "execute_result"
        }
      ],
      "source": [
        "df1 = pd.DataFrame(dict, index=['Hello', 'hello','my','name'])\n",
        "df1"
      ]
    },
    {
      "cell_type": "code",
      "execution_count": null,
      "id": "0831fbe8",
      "metadata": {
        "id": "0831fbe8",
        "outputId": "9e1bb583-c93e-4e53-aa0c-0a7a3de73ff1"
      },
      "outputs": [
        {
          "data": {
            "text/plain": [
              "friuts     3\n",
              "oranges    3\n",
              "Name: my, dtype: int64"
            ]
          },
          "execution_count": 4,
          "metadata": {},
          "output_type": "execute_result"
        }
      ],
      "source": [
        "df1.loc['my']"
      ]
    },
    {
      "cell_type": "code",
      "execution_count": null,
      "id": "d9638642",
      "metadata": {
        "id": "d9638642"
      },
      "outputs": [],
      "source": [
        "df = pd.read_csv('E:\\Data Science\\DataSets\\salary.csv')"
      ]
    },
    {
      "cell_type": "code",
      "execution_count": null,
      "id": "cac1700a",
      "metadata": {
        "id": "cac1700a",
        "outputId": "9b8515cc-21fd-47b2-873a-29f58589a466"
      },
      "outputs": [
        {
          "data": {
            "text/html": [
              "<div>\n",
              "<style scoped>\n",
              "    .dataframe tbody tr th:only-of-type {\n",
              "        vertical-align: middle;\n",
              "    }\n",
              "\n",
              "    .dataframe tbody tr th {\n",
              "        vertical-align: top;\n",
              "    }\n",
              "\n",
              "    .dataframe thead th {\n",
              "        text-align: right;\n",
              "    }\n",
              "</style>\n",
              "<table border=\"1\" class=\"dataframe\">\n",
              "  <thead>\n",
              "    <tr style=\"text-align: right;\">\n",
              "      <th></th>\n",
              "      <th>Time</th>\n",
              "      <th>Position</th>\n",
              "      <th>Level</th>\n",
              "      <th>Experience</th>\n",
              "      <th>Technology</th>\n",
              "      <th>Location</th>\n",
              "      <th>Way_of_working</th>\n",
              "      <th>Employees_number</th>\n",
              "      <th>Salary_type</th>\n",
              "      <th>Salary</th>\n",
              "    </tr>\n",
              "  </thead>\n",
              "  <tbody>\n",
              "    <tr>\n",
              "      <th>0</th>\n",
              "      <td>2023-01-22 18:49:36.202</td>\n",
              "      <td>Backend Developer</td>\n",
              "      <td>Mid</td>\n",
              "      <td>1-3 Yıl</td>\n",
              "      <td>Java / Spring</td>\n",
              "      <td>Türkiye</td>\n",
              "      <td>Yerinde / Ofiste</td>\n",
              "      <td>100-300</td>\n",
              "      <td>Türk Lirası</td>\n",
              "      <td>41.000 - 45.000 TL</td>\n",
              "    </tr>\n",
              "    <tr>\n",
              "      <th>1</th>\n",
              "      <td>2023-01-22 18:49:38.280</td>\n",
              "      <td>Architect / Mimar</td>\n",
              "      <td>Tanımsız</td>\n",
              "      <td>4-6 Yıl</td>\n",
              "      <td>React / NextJS, NodeJS, Javascript, React Native</td>\n",
              "      <td>Türkiye</td>\n",
              "      <td>Remote</td>\n",
              "      <td>2000+</td>\n",
              "      <td>Türk Lirası</td>\n",
              "      <td>51.000 - 55.000 TL</td>\n",
              "    </tr>\n",
              "    <tr>\n",
              "      <th>2</th>\n",
              "      <td>2023-01-22 18:49:41.383</td>\n",
              "      <td>Frontend Developer</td>\n",
              "      <td>Junior</td>\n",
              "      <td>1-3 Yıl</td>\n",
              "      <td>React / NextJS, Javascript</td>\n",
              "      <td>Türkiye</td>\n",
              "      <td>Remote</td>\n",
              "      <td>100-300</td>\n",
              "      <td>Türk Lirası</td>\n",
              "      <td>16.000 - 20.000 TL</td>\n",
              "    </tr>\n",
              "    <tr>\n",
              "      <th>3</th>\n",
              "      <td>2023-01-22 18:50:19.296</td>\n",
              "      <td>Backend Developer</td>\n",
              "      <td>Mid</td>\n",
              "      <td>4-6 Yıl</td>\n",
              "      <td>Java / Spring</td>\n",
              "      <td>Türkiye</td>\n",
              "      <td>Hybrid</td>\n",
              "      <td>300-1000</td>\n",
              "      <td>Türk Lirası</td>\n",
              "      <td>41.000 - 45.000 TL</td>\n",
              "    </tr>\n",
              "    <tr>\n",
              "      <th>4</th>\n",
              "      <td>2023-01-22 18:51:13.644</td>\n",
              "      <td>Fullstack Developer</td>\n",
              "      <td>Junior</td>\n",
              "      <td>0-1 Yıl</td>\n",
              "      <td>React / NextJS, NodeJS, Javascript</td>\n",
              "      <td>Türkiye</td>\n",
              "      <td>Yerinde / Ofiste</td>\n",
              "      <td>50-100</td>\n",
              "      <td>Türk Lirası</td>\n",
              "      <td>11.000 - 15.000 TL</td>\n",
              "    </tr>\n",
              "    <tr>\n",
              "      <th>...</th>\n",
              "      <td>...</td>\n",
              "      <td>...</td>\n",
              "      <td>...</td>\n",
              "      <td>...</td>\n",
              "      <td>...</td>\n",
              "      <td>...</td>\n",
              "      <td>...</td>\n",
              "      <td>...</td>\n",
              "      <td>...</td>\n",
              "      <td>...</td>\n",
              "    </tr>\n",
              "    <tr>\n",
              "      <th>1159</th>\n",
              "      <td>2023-01-25 15:28:57.722</td>\n",
              "      <td>Fullstack Developer</td>\n",
              "      <td>Senior</td>\n",
              "      <td>10+ Yıl</td>\n",
              "      <td>React / NextJS, Angular, Javascript, C# / .NET...</td>\n",
              "      <td>Türkiye</td>\n",
              "      <td>Yerinde / Ofiste</td>\n",
              "      <td>0-10</td>\n",
              "      <td>Türk Lirası</td>\n",
              "      <td>56.000 - 60.000 TL</td>\n",
              "    </tr>\n",
              "    <tr>\n",
              "      <th>1160</th>\n",
              "      <td>2023-01-25 17:45:25.320</td>\n",
              "      <td>Backend Developer</td>\n",
              "      <td>Mid</td>\n",
              "      <td>1-3 Yıl</td>\n",
              "      <td>NodeJS, Javascript, Java / Spring</td>\n",
              "      <td>Türkiye</td>\n",
              "      <td>Hybrid</td>\n",
              "      <td>100-300</td>\n",
              "      <td>Türk Lirası</td>\n",
              "      <td>31.000 - 35.000 TL</td>\n",
              "    </tr>\n",
              "    <tr>\n",
              "      <th>1161</th>\n",
              "      <td>2023-01-25 19:24:10.683</td>\n",
              "      <td>Analist</td>\n",
              "      <td>Junior</td>\n",
              "      <td>1-3 Yıl</td>\n",
              "      <td>SQL, Excel</td>\n",
              "      <td>Türkiye</td>\n",
              "      <td>Remote</td>\n",
              "      <td>300-1000</td>\n",
              "      <td>Türk Lirası</td>\n",
              "      <td>21.000 - 25.000 TL</td>\n",
              "    </tr>\n",
              "    <tr>\n",
              "      <th>1162</th>\n",
              "      <td>2023-01-26 14:24:36.607</td>\n",
              "      <td>Fullstack Developer</td>\n",
              "      <td>Mid</td>\n",
              "      <td>1-3 Yıl</td>\n",
              "      <td>Angular, C# / .NET Framework</td>\n",
              "      <td>Türkiye</td>\n",
              "      <td>Remote</td>\n",
              "      <td>100-300</td>\n",
              "      <td>Türk Lirası</td>\n",
              "      <td>31.000 - 35.000 TL</td>\n",
              "    </tr>\n",
              "    <tr>\n",
              "      <th>1163</th>\n",
              "      <td>2023-01-26 16:28:23.767</td>\n",
              "      <td>Backend Developer</td>\n",
              "      <td>Junior</td>\n",
              "      <td>10+ Yıl</td>\n",
              "      <td>PHP / Laravel</td>\n",
              "      <td>Türkiye</td>\n",
              "      <td>Remote</td>\n",
              "      <td>0-10</td>\n",
              "      <td>Türk Lirası</td>\n",
              "      <td>36.000 - 40.000 TL</td>\n",
              "    </tr>\n",
              "  </tbody>\n",
              "</table>\n",
              "<p>1164 rows × 10 columns</p>\n",
              "</div>"
            ],
            "text/plain": [
              "                         Time             Position     Level Experience  \\\n",
              "0     2023-01-22 18:49:36.202    Backend Developer       Mid    1-3 Yıl   \n",
              "1     2023-01-22 18:49:38.280    Architect / Mimar  Tanımsız    4-6 Yıl   \n",
              "2     2023-01-22 18:49:41.383   Frontend Developer    Junior    1-3 Yıl   \n",
              "3     2023-01-22 18:50:19.296    Backend Developer       Mid    4-6 Yıl   \n",
              "4     2023-01-22 18:51:13.644  Fullstack Developer    Junior    0-1 Yıl   \n",
              "...                       ...                  ...       ...        ...   \n",
              "1159  2023-01-25 15:28:57.722  Fullstack Developer    Senior    10+ Yıl   \n",
              "1160  2023-01-25 17:45:25.320    Backend Developer       Mid    1-3 Yıl   \n",
              "1161  2023-01-25 19:24:10.683              Analist    Junior    1-3 Yıl   \n",
              "1162  2023-01-26 14:24:36.607  Fullstack Developer       Mid    1-3 Yıl   \n",
              "1163  2023-01-26 16:28:23.767    Backend Developer    Junior    10+ Yıl   \n",
              "\n",
              "                                             Technology Location  \\\n",
              "0                                         Java / Spring  Türkiye   \n",
              "1      React / NextJS, NodeJS, Javascript, React Native  Türkiye   \n",
              "2                            React / NextJS, Javascript  Türkiye   \n",
              "3                                         Java / Spring  Türkiye   \n",
              "4                    React / NextJS, NodeJS, Javascript  Türkiye   \n",
              "...                                                 ...      ...   \n",
              "1159  React / NextJS, Angular, Javascript, C# / .NET...  Türkiye   \n",
              "1160                  NodeJS, Javascript, Java / Spring  Türkiye   \n",
              "1161                                         SQL, Excel  Türkiye   \n",
              "1162                       Angular, C# / .NET Framework  Türkiye   \n",
              "1163                                      PHP / Laravel  Türkiye   \n",
              "\n",
              "        Way_of_working Employees_number  Salary_type              Salary  \n",
              "0     Yerinde / Ofiste          100-300  Türk Lirası  41.000 - 45.000 TL  \n",
              "1               Remote            2000+  Türk Lirası  51.000 - 55.000 TL  \n",
              "2               Remote          100-300  Türk Lirası  16.000 - 20.000 TL  \n",
              "3               Hybrid         300-1000  Türk Lirası  41.000 - 45.000 TL  \n",
              "4     Yerinde / Ofiste           50-100  Türk Lirası  11.000 - 15.000 TL  \n",
              "...                ...              ...          ...                 ...  \n",
              "1159  Yerinde / Ofiste             0-10  Türk Lirası  56.000 - 60.000 TL  \n",
              "1160            Hybrid          100-300  Türk Lirası  31.000 - 35.000 TL  \n",
              "1161            Remote         300-1000  Türk Lirası  21.000 - 25.000 TL  \n",
              "1162            Remote          100-300  Türk Lirası  31.000 - 35.000 TL  \n",
              "1163            Remote             0-10  Türk Lirası  36.000 - 40.000 TL  \n",
              "\n",
              "[1164 rows x 10 columns]"
            ]
          },
          "execution_count": 6,
          "metadata": {},
          "output_type": "execute_result"
        }
      ],
      "source": [
        "df"
      ]
    },
    {
      "cell_type": "code",
      "execution_count": null,
      "id": "bb1be86b",
      "metadata": {
        "id": "bb1be86b",
        "outputId": "3dd72ec7-4532-4e8e-e707-26c2553c1c06"
      },
      "outputs": [
        {
          "data": {
            "text/html": [
              "<div>\n",
              "<style scoped>\n",
              "    .dataframe tbody tr th:only-of-type {\n",
              "        vertical-align: middle;\n",
              "    }\n",
              "\n",
              "    .dataframe tbody tr th {\n",
              "        vertical-align: top;\n",
              "    }\n",
              "\n",
              "    .dataframe thead th {\n",
              "        text-align: right;\n",
              "    }\n",
              "</style>\n",
              "<table border=\"1\" class=\"dataframe\">\n",
              "  <thead>\n",
              "    <tr style=\"text-align: right;\">\n",
              "      <th></th>\n",
              "      <th>Time</th>\n",
              "      <th>Position</th>\n",
              "      <th>Level</th>\n",
              "      <th>Experience</th>\n",
              "      <th>Technology</th>\n",
              "      <th>Location</th>\n",
              "      <th>Way_of_working</th>\n",
              "      <th>Employees_number</th>\n",
              "      <th>Salary_type</th>\n",
              "      <th>Salary</th>\n",
              "    </tr>\n",
              "  </thead>\n",
              "  <tbody>\n",
              "    <tr>\n",
              "      <th>0</th>\n",
              "      <td>2023-01-22 18:49:36.202</td>\n",
              "      <td>Backend Developer</td>\n",
              "      <td>Mid</td>\n",
              "      <td>1-3 Yıl</td>\n",
              "      <td>Java / Spring</td>\n",
              "      <td>Türkiye</td>\n",
              "      <td>Yerinde / Ofiste</td>\n",
              "      <td>100-300</td>\n",
              "      <td>Türk Lirası</td>\n",
              "      <td>41.000 - 45.000 TL</td>\n",
              "    </tr>\n",
              "    <tr>\n",
              "      <th>1</th>\n",
              "      <td>2023-01-22 18:49:38.280</td>\n",
              "      <td>Architect / Mimar</td>\n",
              "      <td>Tanımsız</td>\n",
              "      <td>4-6 Yıl</td>\n",
              "      <td>React / NextJS, NodeJS, Javascript, React Native</td>\n",
              "      <td>Türkiye</td>\n",
              "      <td>Remote</td>\n",
              "      <td>2000+</td>\n",
              "      <td>Türk Lirası</td>\n",
              "      <td>51.000 - 55.000 TL</td>\n",
              "    </tr>\n",
              "    <tr>\n",
              "      <th>2</th>\n",
              "      <td>2023-01-22 18:49:41.383</td>\n",
              "      <td>Frontend Developer</td>\n",
              "      <td>Junior</td>\n",
              "      <td>1-3 Yıl</td>\n",
              "      <td>React / NextJS, Javascript</td>\n",
              "      <td>Türkiye</td>\n",
              "      <td>Remote</td>\n",
              "      <td>100-300</td>\n",
              "      <td>Türk Lirası</td>\n",
              "      <td>16.000 - 20.000 TL</td>\n",
              "    </tr>\n",
              "    <tr>\n",
              "      <th>3</th>\n",
              "      <td>2023-01-22 18:50:19.296</td>\n",
              "      <td>Backend Developer</td>\n",
              "      <td>Mid</td>\n",
              "      <td>4-6 Yıl</td>\n",
              "      <td>Java / Spring</td>\n",
              "      <td>Türkiye</td>\n",
              "      <td>Hybrid</td>\n",
              "      <td>300-1000</td>\n",
              "      <td>Türk Lirası</td>\n",
              "      <td>41.000 - 45.000 TL</td>\n",
              "    </tr>\n",
              "    <tr>\n",
              "      <th>4</th>\n",
              "      <td>2023-01-22 18:51:13.644</td>\n",
              "      <td>Fullstack Developer</td>\n",
              "      <td>Junior</td>\n",
              "      <td>0-1 Yıl</td>\n",
              "      <td>React / NextJS, NodeJS, Javascript</td>\n",
              "      <td>Türkiye</td>\n",
              "      <td>Yerinde / Ofiste</td>\n",
              "      <td>50-100</td>\n",
              "      <td>Türk Lirası</td>\n",
              "      <td>11.000 - 15.000 TL</td>\n",
              "    </tr>\n",
              "  </tbody>\n",
              "</table>\n",
              "</div>"
            ],
            "text/plain": [
              "                      Time             Position     Level Experience  \\\n",
              "0  2023-01-22 18:49:36.202    Backend Developer       Mid    1-3 Yıl   \n",
              "1  2023-01-22 18:49:38.280    Architect / Mimar  Tanımsız    4-6 Yıl   \n",
              "2  2023-01-22 18:49:41.383   Frontend Developer    Junior    1-3 Yıl   \n",
              "3  2023-01-22 18:50:19.296    Backend Developer       Mid    4-6 Yıl   \n",
              "4  2023-01-22 18:51:13.644  Fullstack Developer    Junior    0-1 Yıl   \n",
              "\n",
              "                                         Technology Location  \\\n",
              "0                                     Java / Spring  Türkiye   \n",
              "1  React / NextJS, NodeJS, Javascript, React Native  Türkiye   \n",
              "2                        React / NextJS, Javascript  Türkiye   \n",
              "3                                     Java / Spring  Türkiye   \n",
              "4                React / NextJS, NodeJS, Javascript  Türkiye   \n",
              "\n",
              "     Way_of_working Employees_number  Salary_type              Salary  \n",
              "0  Yerinde / Ofiste          100-300  Türk Lirası  41.000 - 45.000 TL  \n",
              "1            Remote            2000+  Türk Lirası  51.000 - 55.000 TL  \n",
              "2            Remote          100-300  Türk Lirası  16.000 - 20.000 TL  \n",
              "3            Hybrid         300-1000  Türk Lirası  41.000 - 45.000 TL  \n",
              "4  Yerinde / Ofiste           50-100  Türk Lirası  11.000 - 15.000 TL  "
            ]
          },
          "execution_count": 7,
          "metadata": {},
          "output_type": "execute_result"
        }
      ],
      "source": [
        "df.head()"
      ]
    },
    {
      "cell_type": "code",
      "execution_count": null,
      "id": "3995b8a7",
      "metadata": {
        "id": "3995b8a7",
        "outputId": "38202cb4-8b40-4dda-cadc-498ea047833e"
      },
      "outputs": [
        {
          "data": {
            "text/html": [
              "<div>\n",
              "<style scoped>\n",
              "    .dataframe tbody tr th:only-of-type {\n",
              "        vertical-align: middle;\n",
              "    }\n",
              "\n",
              "    .dataframe tbody tr th {\n",
              "        vertical-align: top;\n",
              "    }\n",
              "\n",
              "    .dataframe thead th {\n",
              "        text-align: right;\n",
              "    }\n",
              "</style>\n",
              "<table border=\"1\" class=\"dataframe\">\n",
              "  <thead>\n",
              "    <tr style=\"text-align: right;\">\n",
              "      <th></th>\n",
              "      <th>Time</th>\n",
              "      <th>Position</th>\n",
              "      <th>Level</th>\n",
              "      <th>Experience</th>\n",
              "      <th>Technology</th>\n",
              "      <th>Location</th>\n",
              "      <th>Way_of_working</th>\n",
              "      <th>Employees_number</th>\n",
              "      <th>Salary_type</th>\n",
              "      <th>Salary</th>\n",
              "    </tr>\n",
              "  </thead>\n",
              "  <tbody>\n",
              "    <tr>\n",
              "      <th>1159</th>\n",
              "      <td>2023-01-25 15:28:57.722</td>\n",
              "      <td>Fullstack Developer</td>\n",
              "      <td>Senior</td>\n",
              "      <td>10+ Yıl</td>\n",
              "      <td>React / NextJS, Angular, Javascript, C# / .NET...</td>\n",
              "      <td>Türkiye</td>\n",
              "      <td>Yerinde / Ofiste</td>\n",
              "      <td>0-10</td>\n",
              "      <td>Türk Lirası</td>\n",
              "      <td>56.000 - 60.000 TL</td>\n",
              "    </tr>\n",
              "    <tr>\n",
              "      <th>1160</th>\n",
              "      <td>2023-01-25 17:45:25.320</td>\n",
              "      <td>Backend Developer</td>\n",
              "      <td>Mid</td>\n",
              "      <td>1-3 Yıl</td>\n",
              "      <td>NodeJS, Javascript, Java / Spring</td>\n",
              "      <td>Türkiye</td>\n",
              "      <td>Hybrid</td>\n",
              "      <td>100-300</td>\n",
              "      <td>Türk Lirası</td>\n",
              "      <td>31.000 - 35.000 TL</td>\n",
              "    </tr>\n",
              "    <tr>\n",
              "      <th>1161</th>\n",
              "      <td>2023-01-25 19:24:10.683</td>\n",
              "      <td>Analist</td>\n",
              "      <td>Junior</td>\n",
              "      <td>1-3 Yıl</td>\n",
              "      <td>SQL, Excel</td>\n",
              "      <td>Türkiye</td>\n",
              "      <td>Remote</td>\n",
              "      <td>300-1000</td>\n",
              "      <td>Türk Lirası</td>\n",
              "      <td>21.000 - 25.000 TL</td>\n",
              "    </tr>\n",
              "    <tr>\n",
              "      <th>1162</th>\n",
              "      <td>2023-01-26 14:24:36.607</td>\n",
              "      <td>Fullstack Developer</td>\n",
              "      <td>Mid</td>\n",
              "      <td>1-3 Yıl</td>\n",
              "      <td>Angular, C# / .NET Framework</td>\n",
              "      <td>Türkiye</td>\n",
              "      <td>Remote</td>\n",
              "      <td>100-300</td>\n",
              "      <td>Türk Lirası</td>\n",
              "      <td>31.000 - 35.000 TL</td>\n",
              "    </tr>\n",
              "    <tr>\n",
              "      <th>1163</th>\n",
              "      <td>2023-01-26 16:28:23.767</td>\n",
              "      <td>Backend Developer</td>\n",
              "      <td>Junior</td>\n",
              "      <td>10+ Yıl</td>\n",
              "      <td>PHP / Laravel</td>\n",
              "      <td>Türkiye</td>\n",
              "      <td>Remote</td>\n",
              "      <td>0-10</td>\n",
              "      <td>Türk Lirası</td>\n",
              "      <td>36.000 - 40.000 TL</td>\n",
              "    </tr>\n",
              "  </tbody>\n",
              "</table>\n",
              "</div>"
            ],
            "text/plain": [
              "                         Time             Position   Level Experience  \\\n",
              "1159  2023-01-25 15:28:57.722  Fullstack Developer  Senior    10+ Yıl   \n",
              "1160  2023-01-25 17:45:25.320    Backend Developer     Mid    1-3 Yıl   \n",
              "1161  2023-01-25 19:24:10.683              Analist  Junior    1-3 Yıl   \n",
              "1162  2023-01-26 14:24:36.607  Fullstack Developer     Mid    1-3 Yıl   \n",
              "1163  2023-01-26 16:28:23.767    Backend Developer  Junior    10+ Yıl   \n",
              "\n",
              "                                             Technology Location  \\\n",
              "1159  React / NextJS, Angular, Javascript, C# / .NET...  Türkiye   \n",
              "1160                  NodeJS, Javascript, Java / Spring  Türkiye   \n",
              "1161                                         SQL, Excel  Türkiye   \n",
              "1162                       Angular, C# / .NET Framework  Türkiye   \n",
              "1163                                      PHP / Laravel  Türkiye   \n",
              "\n",
              "        Way_of_working Employees_number  Salary_type              Salary  \n",
              "1159  Yerinde / Ofiste             0-10  Türk Lirası  56.000 - 60.000 TL  \n",
              "1160            Hybrid          100-300  Türk Lirası  31.000 - 35.000 TL  \n",
              "1161            Remote         300-1000  Türk Lirası  21.000 - 25.000 TL  \n",
              "1162            Remote          100-300  Türk Lirası  31.000 - 35.000 TL  \n",
              "1163            Remote             0-10  Türk Lirası  36.000 - 40.000 TL  "
            ]
          },
          "execution_count": 8,
          "metadata": {},
          "output_type": "execute_result"
        }
      ],
      "source": [
        "df.tail()"
      ]
    },
    {
      "cell_type": "code",
      "execution_count": null,
      "id": "9c940ba8",
      "metadata": {
        "id": "9c940ba8",
        "outputId": "68290c07-44ee-49b9-cee1-81617837a81f"
      },
      "outputs": [
        {
          "data": {
            "text/plain": [
              "(1164, 10)"
            ]
          },
          "execution_count": 9,
          "metadata": {},
          "output_type": "execute_result"
        }
      ],
      "source": [
        "df.shape"
      ]
    },
    {
      "cell_type": "code",
      "execution_count": null,
      "id": "dc704997",
      "metadata": {
        "id": "dc704997",
        "outputId": "5c5b3622-d5ef-43a8-8ef8-bb3278868812"
      },
      "outputs": [
        {
          "data": {
            "text/html": [
              "<div>\n",
              "<style scoped>\n",
              "    .dataframe tbody tr th:only-of-type {\n",
              "        vertical-align: middle;\n",
              "    }\n",
              "\n",
              "    .dataframe tbody tr th {\n",
              "        vertical-align: top;\n",
              "    }\n",
              "\n",
              "    .dataframe thead th {\n",
              "        text-align: right;\n",
              "    }\n",
              "</style>\n",
              "<table border=\"1\" class=\"dataframe\">\n",
              "  <thead>\n",
              "    <tr style=\"text-align: right;\">\n",
              "      <th></th>\n",
              "      <th>Time</th>\n",
              "      <th>Position</th>\n",
              "      <th>Level</th>\n",
              "      <th>Experience</th>\n",
              "      <th>Technology</th>\n",
              "      <th>Location</th>\n",
              "      <th>Way_of_working</th>\n",
              "      <th>Employees_number</th>\n",
              "      <th>Salary_type</th>\n",
              "      <th>Salary</th>\n",
              "    </tr>\n",
              "  </thead>\n",
              "  <tbody>\n",
              "    <tr>\n",
              "      <th>count</th>\n",
              "      <td>1164</td>\n",
              "      <td>1164</td>\n",
              "      <td>1164</td>\n",
              "      <td>1164</td>\n",
              "      <td>1164</td>\n",
              "      <td>1164</td>\n",
              "      <td>1164</td>\n",
              "      <td>1164</td>\n",
              "      <td>1164</td>\n",
              "      <td>1164</td>\n",
              "    </tr>\n",
              "    <tr>\n",
              "      <th>unique</th>\n",
              "      <td>1164</td>\n",
              "      <td>110</td>\n",
              "      <td>4</td>\n",
              "      <td>5</td>\n",
              "      <td>356</td>\n",
              "      <td>2</td>\n",
              "      <td>3</td>\n",
              "      <td>8</td>\n",
              "      <td>22</td>\n",
              "      <td>20</td>\n",
              "    </tr>\n",
              "    <tr>\n",
              "      <th>top</th>\n",
              "      <td>2023-01-22 18:49:36.202</td>\n",
              "      <td>Backend Developer</td>\n",
              "      <td>Junior</td>\n",
              "      <td>1-3 Yıl</td>\n",
              "      <td>C# / .NET Framework</td>\n",
              "      <td>Türkiye</td>\n",
              "      <td>Remote</td>\n",
              "      <td>10-30</td>\n",
              "      <td>Türk Lirası</td>\n",
              "      <td>11.000 - 15.000 TL</td>\n",
              "    </tr>\n",
              "    <tr>\n",
              "      <th>freq</th>\n",
              "      <td>1</td>\n",
              "      <td>292</td>\n",
              "      <td>446</td>\n",
              "      <td>438</td>\n",
              "      <td>113</td>\n",
              "      <td>1033</td>\n",
              "      <td>600</td>\n",
              "      <td>217</td>\n",
              "      <td>1015</td>\n",
              "      <td>210</td>\n",
              "    </tr>\n",
              "  </tbody>\n",
              "</table>\n",
              "</div>"
            ],
            "text/plain": [
              "                           Time           Position   Level Experience  \\\n",
              "count                      1164               1164    1164       1164   \n",
              "unique                     1164                110       4          5   \n",
              "top     2023-01-22 18:49:36.202  Backend Developer  Junior    1-3 Yıl   \n",
              "freq                          1                292     446        438   \n",
              "\n",
              "                 Technology Location Way_of_working Employees_number  \\\n",
              "count                  1164     1164           1164             1164   \n",
              "unique                  356        2              3                8   \n",
              "top     C# / .NET Framework  Türkiye         Remote            10-30   \n",
              "freq                    113     1033            600              217   \n",
              "\n",
              "        Salary_type              Salary  \n",
              "count          1164                1164  \n",
              "unique           22                  20  \n",
              "top     Türk Lirası  11.000 - 15.000 TL  \n",
              "freq           1015                 210  "
            ]
          },
          "execution_count": 10,
          "metadata": {},
          "output_type": "execute_result"
        }
      ],
      "source": [
        "df.describe(include='object')"
      ]
    },
    {
      "cell_type": "code",
      "execution_count": null,
      "id": "fa94b19e",
      "metadata": {
        "id": "fa94b19e",
        "outputId": "2e5a7ffd-6d24-4b20-fcc2-3e1767d9e78d"
      },
      "outputs": [
        {
          "data": {
            "text/plain": [
              "Time                object\n",
              "Position            object\n",
              "Level               object\n",
              "Experience          object\n",
              "Technology          object\n",
              "Location            object\n",
              "Way_of_working      object\n",
              "Employees_number    object\n",
              "Salary_type         object\n",
              "Salary              object\n",
              "dtype: object"
            ]
          },
          "execution_count": 11,
          "metadata": {},
          "output_type": "execute_result"
        }
      ],
      "source": [
        "df.dtypes"
      ]
    },
    {
      "cell_type": "code",
      "execution_count": null,
      "id": "0aaab4e0",
      "metadata": {
        "id": "0aaab4e0",
        "outputId": "d93df1e8-3ab8-45cb-b4cf-8a705e8edeb7"
      },
      "outputs": [
        {
          "data": {
            "text/plain": [
              "Index(['Time', 'Position', 'Level', 'Experience', 'Technology', 'Location',\n",
              "       'Way_of_working', 'Employees_number', 'Salary_type', 'Salary'],\n",
              "      dtype='object')"
            ]
          },
          "execution_count": 12,
          "metadata": {},
          "output_type": "execute_result"
        }
      ],
      "source": [
        "df.columns"
      ]
    },
    {
      "cell_type": "code",
      "execution_count": null,
      "id": "238ba56e",
      "metadata": {
        "id": "238ba56e",
        "outputId": "6b6729a7-16fb-4a96-b6dc-7511a0757fa3"
      },
      "outputs": [
        {
          "data": {
            "text/plain": [
              "Time                0\n",
              "Position            0\n",
              "Level               0\n",
              "Experience          0\n",
              "Technology          0\n",
              "Location            0\n",
              "Way_of_working      0\n",
              "Employees_number    0\n",
              "Salary_type         0\n",
              "Salary              0\n",
              "dtype: int64"
            ]
          },
          "execution_count": 13,
          "metadata": {},
          "output_type": "execute_result"
        }
      ],
      "source": [
        "df.isnull().sum()"
      ]
    },
    {
      "cell_type": "code",
      "execution_count": null,
      "id": "6f18ab7b",
      "metadata": {
        "id": "6f18ab7b",
        "outputId": "e15bd041-e3cb-492f-dad0-1b61f9faba07"
      },
      "outputs": [
        {
          "data": {
            "text/plain": [
              "0       Türkiye\n",
              "1       Türkiye\n",
              "2       Türkiye\n",
              "3       Türkiye\n",
              "4       Türkiye\n",
              "         ...   \n",
              "1159    Türkiye\n",
              "1160    Türkiye\n",
              "1161    Türkiye\n",
              "1162    Türkiye\n",
              "1163    Türkiye\n",
              "Name: Location, Length: 1164, dtype: object"
            ]
          },
          "execution_count": 14,
          "metadata": {},
          "output_type": "execute_result"
        }
      ],
      "source": [
        "x = df['Location']\n",
        "x"
      ]
    },
    {
      "cell_type": "code",
      "execution_count": null,
      "id": "61c870d5",
      "metadata": {
        "id": "61c870d5",
        "outputId": "12780dc2-c7dd-4125-f4ec-dd58d4159646"
      },
      "outputs": [
        {
          "name": "stdout",
          "output_type": "stream",
          "text": [
            "<class 'pandas.core.series.Series'>\n"
          ]
        }
      ],
      "source": [
        "x = df['Location']\n",
        "print(type(x))"
      ]
    },
    {
      "cell_type": "code",
      "execution_count": null,
      "id": "de2c6f65",
      "metadata": {
        "id": "de2c6f65",
        "outputId": "3058fa7a-2d51-4768-e4e5-9e086fafc47e"
      },
      "outputs": [
        {
          "data": {
            "text/html": [
              "<div>\n",
              "<style scoped>\n",
              "    .dataframe tbody tr th:only-of-type {\n",
              "        vertical-align: middle;\n",
              "    }\n",
              "\n",
              "    .dataframe tbody tr th {\n",
              "        vertical-align: top;\n",
              "    }\n",
              "\n",
              "    .dataframe thead th {\n",
              "        text-align: right;\n",
              "    }\n",
              "</style>\n",
              "<table border=\"1\" class=\"dataframe\">\n",
              "  <thead>\n",
              "    <tr style=\"text-align: right;\">\n",
              "      <th></th>\n",
              "      <th>Salary</th>\n",
              "      <th>Location</th>\n",
              "      <th>Position</th>\n",
              "    </tr>\n",
              "  </thead>\n",
              "  <tbody>\n",
              "    <tr>\n",
              "      <th>0</th>\n",
              "      <td>41.000 - 45.000 TL</td>\n",
              "      <td>Türkiye</td>\n",
              "      <td>Backend Developer</td>\n",
              "    </tr>\n",
              "    <tr>\n",
              "      <th>1</th>\n",
              "      <td>51.000 - 55.000 TL</td>\n",
              "      <td>Türkiye</td>\n",
              "      <td>Architect / Mimar</td>\n",
              "    </tr>\n",
              "    <tr>\n",
              "      <th>2</th>\n",
              "      <td>16.000 - 20.000 TL</td>\n",
              "      <td>Türkiye</td>\n",
              "      <td>Frontend Developer</td>\n",
              "    </tr>\n",
              "    <tr>\n",
              "      <th>3</th>\n",
              "      <td>41.000 - 45.000 TL</td>\n",
              "      <td>Türkiye</td>\n",
              "      <td>Backend Developer</td>\n",
              "    </tr>\n",
              "    <tr>\n",
              "      <th>4</th>\n",
              "      <td>11.000 - 15.000 TL</td>\n",
              "      <td>Türkiye</td>\n",
              "      <td>Fullstack Developer</td>\n",
              "    </tr>\n",
              "    <tr>\n",
              "      <th>...</th>\n",
              "      <td>...</td>\n",
              "      <td>...</td>\n",
              "      <td>...</td>\n",
              "    </tr>\n",
              "    <tr>\n",
              "      <th>1159</th>\n",
              "      <td>56.000 - 60.000 TL</td>\n",
              "      <td>Türkiye</td>\n",
              "      <td>Fullstack Developer</td>\n",
              "    </tr>\n",
              "    <tr>\n",
              "      <th>1160</th>\n",
              "      <td>31.000 - 35.000 TL</td>\n",
              "      <td>Türkiye</td>\n",
              "      <td>Backend Developer</td>\n",
              "    </tr>\n",
              "    <tr>\n",
              "      <th>1161</th>\n",
              "      <td>21.000 - 25.000 TL</td>\n",
              "      <td>Türkiye</td>\n",
              "      <td>Analist</td>\n",
              "    </tr>\n",
              "    <tr>\n",
              "      <th>1162</th>\n",
              "      <td>31.000 - 35.000 TL</td>\n",
              "      <td>Türkiye</td>\n",
              "      <td>Fullstack Developer</td>\n",
              "    </tr>\n",
              "    <tr>\n",
              "      <th>1163</th>\n",
              "      <td>36.000 - 40.000 TL</td>\n",
              "      <td>Türkiye</td>\n",
              "      <td>Backend Developer</td>\n",
              "    </tr>\n",
              "  </tbody>\n",
              "</table>\n",
              "<p>1164 rows × 3 columns</p>\n",
              "</div>"
            ],
            "text/plain": [
              "                  Salary Location             Position\n",
              "0     41.000 - 45.000 TL  Türkiye    Backend Developer\n",
              "1     51.000 - 55.000 TL  Türkiye    Architect / Mimar\n",
              "2     16.000 - 20.000 TL  Türkiye   Frontend Developer\n",
              "3     41.000 - 45.000 TL  Türkiye    Backend Developer\n",
              "4     11.000 - 15.000 TL  Türkiye  Fullstack Developer\n",
              "...                  ...      ...                  ...\n",
              "1159  56.000 - 60.000 TL  Türkiye  Fullstack Developer\n",
              "1160  31.000 - 35.000 TL  Türkiye    Backend Developer\n",
              "1161  21.000 - 25.000 TL  Türkiye              Analist\n",
              "1162  31.000 - 35.000 TL  Türkiye  Fullstack Developer\n",
              "1163  36.000 - 40.000 TL  Türkiye    Backend Developer\n",
              "\n",
              "[1164 rows x 3 columns]"
            ]
          },
          "execution_count": 16,
          "metadata": {},
          "output_type": "execute_result"
        }
      ],
      "source": [
        "y = df[['Salary', 'Location', 'Position']]\n",
        "y"
      ]
    },
    {
      "cell_type": "code",
      "execution_count": null,
      "id": "8e88206f",
      "metadata": {
        "id": "8e88206f",
        "outputId": "f7b4b16c-bc08-42cb-a0ce-b807bccfebf4"
      },
      "outputs": [
        {
          "data": {
            "text/plain": [
              "'2023-01-22 18:49:36.202'"
            ]
          },
          "execution_count": 17,
          "metadata": {},
          "output_type": "execute_result"
        }
      ],
      "source": [
        "df.iloc[0,0]"
      ]
    },
    {
      "cell_type": "code",
      "execution_count": null,
      "id": "9f2bb106",
      "metadata": {
        "id": "9f2bb106",
        "outputId": "8cae2873-5b9e-4073-dd8e-4a8b715241f4"
      },
      "outputs": [
        {
          "data": {
            "text/plain": [
              "'Backend Developer'"
            ]
          },
          "execution_count": 18,
          "metadata": {},
          "output_type": "execute_result"
        }
      ],
      "source": [
        "df.loc[0, 'Position']"
      ]
    },
    {
      "cell_type": "code",
      "execution_count": null,
      "id": "f954e25e",
      "metadata": {
        "id": "f954e25e",
        "outputId": "56c293d2-1fc8-475b-dfc8-89dbc86ab949"
      },
      "outputs": [
        {
          "data": {
            "text/html": [
              "<div>\n",
              "<style scoped>\n",
              "    .dataframe tbody tr th:only-of-type {\n",
              "        vertical-align: middle;\n",
              "    }\n",
              "\n",
              "    .dataframe tbody tr th {\n",
              "        vertical-align: top;\n",
              "    }\n",
              "\n",
              "    .dataframe thead th {\n",
              "        text-align: right;\n",
              "    }\n",
              "</style>\n",
              "<table border=\"1\" class=\"dataframe\">\n",
              "  <thead>\n",
              "    <tr style=\"text-align: right;\">\n",
              "      <th></th>\n",
              "      <th>Time</th>\n",
              "      <th>Position</th>\n",
              "      <th>Level</th>\n",
              "    </tr>\n",
              "  </thead>\n",
              "  <tbody>\n",
              "    <tr>\n",
              "      <th>0</th>\n",
              "      <td>2023-01-22 18:49:36.202</td>\n",
              "      <td>Backend Developer</td>\n",
              "      <td>Mid</td>\n",
              "    </tr>\n",
              "    <tr>\n",
              "      <th>1</th>\n",
              "      <td>2023-01-22 18:49:38.280</td>\n",
              "      <td>Architect / Mimar</td>\n",
              "      <td>Tanımsız</td>\n",
              "    </tr>\n",
              "    <tr>\n",
              "      <th>2</th>\n",
              "      <td>2023-01-22 18:49:41.383</td>\n",
              "      <td>Frontend Developer</td>\n",
              "      <td>Junior</td>\n",
              "    </tr>\n",
              "    <tr>\n",
              "      <th>3</th>\n",
              "      <td>2023-01-22 18:50:19.296</td>\n",
              "      <td>Backend Developer</td>\n",
              "      <td>Mid</td>\n",
              "    </tr>\n",
              "  </tbody>\n",
              "</table>\n",
              "</div>"
            ],
            "text/plain": [
              "                      Time            Position     Level\n",
              "0  2023-01-22 18:49:36.202   Backend Developer       Mid\n",
              "1  2023-01-22 18:49:38.280   Architect / Mimar  Tanımsız\n",
              "2  2023-01-22 18:49:41.383  Frontend Developer    Junior\n",
              "3  2023-01-22 18:50:19.296   Backend Developer       Mid"
            ]
          },
          "execution_count": 19,
          "metadata": {},
          "output_type": "execute_result"
        }
      ],
      "source": [
        "df.iloc[0:4, 0:3]"
      ]
    },
    {
      "cell_type": "code",
      "execution_count": null,
      "id": "02fd7463",
      "metadata": {
        "id": "02fd7463",
        "outputId": "f149165d-47b9-4498-bc60-037e0c409329"
      },
      "outputs": [
        {
          "ename": "TypeError",
          "evalue": "'method' object is not subscriptable",
          "output_type": "error",
          "traceback": [
            "\u001b[1;31m---------------------------------------------------------------------------\u001b[0m",
            "\u001b[1;31mTypeError\u001b[0m                                 Traceback (most recent call last)",
            "Cell \u001b[1;32mIn[20], line 1\u001b[0m\n\u001b[1;32m----> 1\u001b[0m \u001b[43mdf\u001b[49m\u001b[38;5;241;43m.\u001b[39;49m\u001b[43mgroupby\u001b[49m\u001b[43m[\u001b[49m\u001b[38;5;124;43m'\u001b[39;49m\u001b[38;5;124;43mSalary\u001b[39;49m\u001b[38;5;124;43m'\u001b[39;49m\u001b[43m,\u001b[49m\u001b[38;5;124;43m'\u001b[39;49m\u001b[38;5;124;43mExperince\u001b[39;49m\u001b[38;5;124;43m'\u001b[39;49m\u001b[43m]\u001b[49m\u001b[38;5;241m.\u001b[39mmean()\n",
            "\u001b[1;31mTypeError\u001b[0m: 'method' object is not subscriptable"
          ]
        }
      ],
      "source": []
    },
    {
      "cell_type": "code",
      "execution_count": null,
      "id": "e0e4288e",
      "metadata": {
        "id": "e0e4288e"
      },
      "outputs": [],
      "source": []
    }
  ],
  "metadata": {
    "kernelspec": {
      "display_name": "Python 3 (ipykernel)",
      "language": "python",
      "name": "python3"
    },
    "language_info": {
      "codemirror_mode": {
        "name": "ipython",
        "version": 3
      },
      "file_extension": ".py",
      "mimetype": "text/x-python",
      "name": "python",
      "nbconvert_exporter": "python",
      "pygments_lexer": "ipython3",
      "version": "3.11.1"
    },
    "colab": {
      "provenance": [],
      "include_colab_link": true
    }
  },
  "nbformat": 4,
  "nbformat_minor": 5
}