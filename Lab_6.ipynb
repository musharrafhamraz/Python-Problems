{
  "cells": [
    {
      "cell_type": "markdown",
      "metadata": {
        "id": "view-in-github",
        "colab_type": "text"
      },
      "source": [
        "<a href=\"https://colab.research.google.com/github/musharrafhamraz/Python-Problems/blob/main/Lab_6.ipynb\" target=\"_parent\"><img src=\"https://colab.research.google.com/assets/colab-badge.svg\" alt=\"Open In Colab\"/></a>"
      ]
    },
    {
      "cell_type": "markdown",
      "id": "9893617d",
      "metadata": {
        "id": "9893617d"
      },
      "source": [
        "# Lab 6"
      ]
    },
    {
      "cell_type": "code",
      "execution_count": null,
      "id": "0975d96a",
      "metadata": {
        "id": "0975d96a",
        "outputId": "4571f641-ac73-48d7-fc80-aa97d60eaa7e"
      },
      "outputs": [
        {
          "name": "stdout",
          "output_type": "stream",
          "text": [
            "The area of the rectangle is:  8\n",
            "The perimeter of the rectangle is:  16\n"
          ]
        }
      ],
      "source": [
        "# Task 1: Write a Python class called Rectangle that has attributes length and width. Implement\n",
        "# methods to calculate the area and perimeter of the rectangle.\n",
        "\n",
        "class Rectangle():\n",
        "    def __init__(self, length, width):\n",
        "        self.length = length\n",
        "        self.width = width\n",
        "\n",
        "    def area(self):\n",
        "        return self.length*self.width\n",
        "\n",
        "    def perimeter(self):\n",
        "        return 2*(self.length*self.width)\n",
        "\n",
        "\n",
        "obj = Rectangle(2,4)\n",
        "print(\"The area of the rectangle is: \", obj.area())\n",
        "print(\"The perimeter of the rectangle is: \", obj.perimeter())\n",
        ""
      ]
    },
    {
      "cell_type": "code",
      "execution_count": null,
      "id": "9cff7f8a",
      "metadata": {
        "id": "9cff7f8a",
        "outputId": "dd8aa069-48d6-4e40-8a9d-d76b45847f59"
      },
      "outputs": [
        {
          "name": "stdout",
          "output_type": "stream",
          "text": [
            "I will make sound..\n",
            "I will bark..\n",
            "I will meow..\n",
            "I will ku ku..\n"
          ]
        }
      ],
      "source": [
        "# Task2: Create a class hierarchy in Python consisting of a base class called Animal, and derived\n",
        "# classes Dog, Cat, and Bird. Each derived class should have its unique method. Instantiate\n",
        "# objects of each class and demonstrate polymorphism by calling a common method on\n",
        "# each object.\n",
        "\n",
        "class Animal():\n",
        "    def sound(self):\n",
        "        print(\"I will make sound..\")\n",
        "\n",
        "class Dog(Animal):\n",
        "    def sound(self):\n",
        "        print(\"I will bark..\")\n",
        "\n",
        "class Cat(Animal):\n",
        "    def sound(self):\n",
        "        print(\"I will meow..\")\n",
        "\n",
        "class Bird(Animal):\n",
        "    def sound(self):\n",
        "        print(\"I will ku ku..\")\n",
        "\n",
        "animal = Animal()\n",
        "dog = Dog()\n",
        "cat = Cat()\n",
        "bird = Bird()\n",
        "\n",
        "animal.sound()\n",
        "dog.sound()\n",
        "cat.sound()\n",
        "bird.sound()"
      ]
    },
    {
      "cell_type": "code",
      "execution_count": null,
      "id": "625570b6",
      "metadata": {
        "id": "625570b6",
        "outputId": "bf5ed34f-06bb-4532-b2fe-df0b93f042c4"
      },
      "outputs": [
        {
          "name": "stdout",
          "output_type": "stream",
          "text": [
            "The Area of the Rectangle 8\n",
            "The Area of the Circle 50.24\n"
          ]
        }
      ],
      "source": [
        "# Task3: Write a Python class called Shape with a method area() that returns the area of the\n",
        "# shape. Create two subclasses, Rectangle and Circle, each overriding the area() method to\n",
        "# 7calculate the area of the specific shape. Instantiate objects of each class and display\n",
        "# their areas.\n",
        "\n",
        "class Shape():\n",
        "    def area(self):\n",
        "        pass\n",
        "\n",
        "class Rectangle(Shape):\n",
        "    def __init__ (self, length1, width):\n",
        "        self.length1 = length1\n",
        "        self.width = width\n",
        "\n",
        "    def area(self):\n",
        "        return self.length1*self.width\n",
        "\n",
        "class Circle(Shape):\n",
        "    def __init__ (self, radius):\n",
        "        self.radius = radius\n",
        "\n",
        "    def area(self):\n",
        "        return 3.14*(self.radius**2)\n",
        "\n",
        "\n",
        "circle = Circle(4)\n",
        "rectangle = Rectangle(2,4)\n",
        "\n",
        "print(\"The Area of the Rectangle:\",rectangle.area())\n",
        "print(\"The Area of the Circle:\",circle.area())"
      ]
    },
    {
      "cell_type": "code",
      "execution_count": null,
      "id": "a55165a1",
      "metadata": {
        "id": "a55165a1"
      },
      "outputs": [],
      "source": []
    }
  ],
  "metadata": {
    "kernelspec": {
      "display_name": "Python 3 (ipykernel)",
      "language": "python",
      "name": "python3"
    },
    "language_info": {
      "codemirror_mode": {
        "name": "ipython",
        "version": 3
      },
      "file_extension": ".py",
      "mimetype": "text/x-python",
      "name": "python",
      "nbconvert_exporter": "python",
      "pygments_lexer": "ipython3",
      "version": "3.11.1"
    },
    "colab": {
      "provenance": [],
      "include_colab_link": true
    }
  },
  "nbformat": 4,
  "nbformat_minor": 5
}